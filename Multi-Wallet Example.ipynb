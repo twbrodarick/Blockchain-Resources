{
 "metadata": {
  "language_info": {
   "codemirror_mode": {
    "name": "ipython",
    "version": 3
   },
   "file_extension": ".py",
   "mimetype": "text/x-python",
   "name": "python",
   "nbconvert_exporter": "python",
   "pygments_lexer": "ipython3",
   "version": 3
  },
  "orig_nbformat": 2,
  "kernelspec": {
   "name": "python_defaultSpec_1595544375173",
   "display_name": "Python 3.7.7 64-bit ('fintech0618': conda)"
  }
 },
 "nbformat": 4,
 "nbformat_minor": 2,
 "cells": [
  {
   "cell_type": "code",
   "execution_count": 1,
   "metadata": {},
   "outputs": [],
   "source": [
    "import subprocess\n",
    "import json"
   ]
  },
  {
   "cell_type": "code",
   "execution_count": 2,
   "metadata": {},
   "outputs": [],
   "source": [
    "php = 'php.exe ./hd-wallet-derive/hd-wallet-derive.php'\n",
    "mnem = \"silver what pig slice hint goose chapter clean shove brand dismiss laptop\""
   ]
  },
  {
   "cell_type": "code",
   "execution_count": 3,
   "metadata": {},
   "outputs": [],
   "source": [
    "def getKeys(cmd): \n",
    "    p = subprocess.Popen(cmd, \n",
    "        stdout=subprocess.PIPE, shell=False) \n",
    "    (output, err) = p.communicate()\n",
    "    p_status = p.wait()\n",
    "    keys = json.loads(output)\n",
    "    return keys"
   ]
  },
  {
   "cell_type": "code",
   "execution_count": 6,
   "metadata": {},
   "outputs": [],
   "source": [
    "results = []\n",
    "coins = ['BTC-test', 'ETH']\n",
    "for coin in coins:\n",
    "    cmd = f'{php} -g --mnemonic=\"{mnem}\" --cols=path,address,privkey,pubkey --coin={coin} --format=json'\n",
    "    keys = getKeys(cmd)\n",
    "    for key in keys:\n",
    "        results.append({\"Coin\": coin, \"Address\": key[\"address\"], \"PrivKey\": key[\"privkey\"], \"PubKey\": key[\"pubkey\"]})"
   ]
  },
  {
   "cell_type": "code",
   "execution_count": 7,
   "metadata": {
    "tags": []
   },
   "outputs": [
    {
     "output_type": "stream",
     "name": "stdout",
     "text": "[{'Coin': 'BTC-test', 'Address': 'mj6y5iYnDYM45bWic86Ht8AgB15BVnw6vE', 'PrivKey': 'cTncZsEy8Kquab6745EAdcVqffMLUPaULaKAcF4kTX6SYwN58FiE', 'PubKey': '0326d2979bbcbfd572fc80727f237534b68bbf841b13c8e15d02a10119700aa529'}, {'Coin': 'BTC-test', 'Address': 'mmF2U1y6LPNStAogiS5kdtj9fUqSWnPXeC', 'PrivKey': 'cUWEvxEX2srwkCMFRVVkFLR33Lz6fSJttaJLB62MX9T6zwYmv2FD', 'PubKey': '0354b537f5fd2213167b587a76030a379f7a0ce0e62fb735979e89c9dbf16343fc'}, {'Coin': 'BTC-test', 'Address': 'mrLzwQhTuN9hSJ7u6cpm9xbeBD2gpMPb2N', 'PrivKey': 'cNgeA1NXtK71rT5HNv2j1vCNMMJgyMU65PoAbUsvmm7SzngMLAgD', 'PubKey': '022b26a8cfe7f65f8a7c157aca3e0132ee45c5bd954e39a085b4c7118f245b0264'}, {'Coin': 'BTC-test', 'Address': 'mzJ7BuHzzadoUb5gx7VFFf75rJwfzarpUC', 'PrivKey': 'cPFv7Y3zoJxfQDeqNpgY19xVNBk2MYkb3FAr9ALrN4PUsLTFmFvo', 'PubKey': '030406c369d751d6eb6b9254bf468a9daa1c0f7057cc0d37ffb553056109e08170'}, {'Coin': 'BTC-test', 'Address': 'moprdUeeryTZhb4Jk7SFMXNHXMGuBChB5a', 'PrivKey': 'cULwH6KVwjN7d8fxeVn1rqUfqjAz7r4Gr7scTzyzKtWKqsujgpCh', 'PubKey': '037b42ce84607d1e24d4c45668a7632caa78896c56c414d5746a9e2c67f08f901d'}, {'Coin': 'BTC-test', 'Address': 'mugp2UJpPLo5oNDxUsUFuGTtzgrm7bS27e', 'PrivKey': 'cNqofdrLuQbtu2bmfsb6sBFhMRZGtQsabZQ8CGgDxvJtdr63iQ94', 'PubKey': '03fa078090a9b50127616f57d446feed0b16474097b62c6a31948254a675a67c2d'}, {'Coin': 'BTC-test', 'Address': 'mnRdWZxKFbWUgWVA7KyhjywwaS2EmCpcDB', 'PrivKey': 'cVE31fgy7XkbGv6eSrwY4ZuFuscvJpB1b1BofKQKSuF61Sqb7YHP', 'PubKey': '03251c15b7991f21c24a41d47d371f44c57c9cb5e91e7b2f3a27b1174ad49b1b6b'}, {'Coin': 'BTC-test', 'Address': 'n38QqGoqEVWBVnMmojwTih3mHPx2JXiybm', 'PrivKey': 'cQu8nKeTqR6nG45YUWgTqLth2nAUXfHMmJTE41yNMNAVxaonMs1Z', 'PubKey': '0358171b3d5ffb33da32908615f8954087ceea103f62e8f03c77636e65d4aa0415'}, {'Coin': 'BTC-test', 'Address': 'mmcNqtH2SzQDcbST2LWj5govJhDqGngLLc', 'PrivKey': 'cT1NkC2zUbMNPHXTUJTAcgtkM1VbHJdz7nxafk5ffjHUzeAo7qnx', 'PubKey': '02be45336f4fcd15a96d968671864985a6c96378d69f15c388646636ccfe487269'}, {'Coin': 'BTC-test', 'Address': 'mh4S9DdNUP8csfKK95M2EBh2EeYnRzqeJT', 'PrivKey': 'cTCiJ9r3wAjuo1azYx5YpyTJqm2BKvTpxrbfPc2mPiGjtuuF46oF', 'PubKey': '024d289e6a643837b4b3a94ec51b978172bbcadc732d4c7afb00db6ba84eb314bc'}, {'Coin': 'ETH', 'Address': '0xC3149ED7053eD4BbB0c6C88715F7d06EB05Ffced', 'PrivKey': '0x3bea6bbcfe967607fbab2da421b77e3d858a9036d4dcce7d3b0c00c3337c1208', 'PubKey': '02e8eadfc0c1bdffcec0ee8cf96c411a12aa2d006ef89b98c1ea22d0320f4724f7'}, {'Coin': 'ETH', 'Address': '0x1366c7B423B6433946cAa6bEeEE51346cdC7D3BC', 'PrivKey': '0x7c684e6790c48a4e7a09fb6a1c6dfadcf54485c92e83bee0098849e38fd3d6f7', 'PubKey': '0276ad9db9f7dfc3e7f416827acfad7af55206bad4bd869c57aecead2481be8ecc'}, {'Coin': 'ETH', 'Address': '0x6073a4642353a63F5d30589588E9a1E04C19Df21', 'PrivKey': '0x50cf69f1630dc80e26e4220cdf10711a7a2d7cbab55a779cfda18239c80e74ab', 'PubKey': '02c25fb57861d577048eb302aca4afb86b3c8b47aff566e3e63f93aceb47e6f318'}, {'Coin': 'ETH', 'Address': '0x82B09cfD0517168C81f8d13aa2a947B791ec2b40', 'PrivKey': '0x2f6a9a4b613a270df295ad964611206db7d4e841c9f6b2589234ffdf0b06ed9b', 'PubKey': '02ffee526c4820265a392c7d9192a7fa9d4927c92addd0182f64989c70113d41c8'}, {'Coin': 'ETH', 'Address': '0x3481A15671df090721674D7f361af0E448F8Ba84', 'PrivKey': '0x6a60b80c702b9ef72eacaa93be3da5399d25dc07c912ac4578403f9f5e197a94', 'PubKey': '029f16125a1bb8b3d78647c0ba39ef075249c62634b3d39be20a7a44fa3355e6e5'}, {'Coin': 'ETH', 'Address': '0x25c08Ff63debdB0345AeCC7a85eBB41e9C6d0ACE', 'PrivKey': '0x90bc5698b01364b65b00833b99bf6441312c193f8c0997226e3a96e8e960eded', 'PubKey': '031d0cc9ea782dc378ded3047fadc9b1091c0e4bbe802e0298bc73b507eebce35b'}, {'Coin': 'ETH', 'Address': '0x580deE442c4b64A0Fd3941f722D1FF6eC1289954', 'PrivKey': '0x31aa92203bf76d6716410308f56f0c4aba48bac04cb96c859b66ec183cfed69a', 'PubKey': '027d1745a34390c942eaa4d080f8a1930d0898e230b2f2fb454d2aeb21e3503928'}, {'Coin': 'ETH', 'Address': '0x10fE4Fd6331592c98abe88E0A992fEbf3aaBAd13', 'PrivKey': '0x84c2d792ba8d5cf177802db6a856c83f06d721ae55a548021909a1693b15d519', 'PubKey': '02da62627a6cb4b7d123350fc2eeb2ecdf998f8948bef5c5549a7bea6649374e89'}, {'Coin': 'ETH', 'Address': '0x608e28d49dD26f78c48DC1d8de108fF2856c808D', 'PrivKey': '0x3c96b6d429907bc5ad182560f49ec894a4bfbe5b9d84974cd16335d1940df31c', 'PubKey': '02886d9075976ed03808dee00e92f7fe5bcb29862c069a2fe80a5670ebe1b879c8'}, {'Coin': 'ETH', 'Address': '0x24ef6E1239096090a7F4B28b7097C4BfCfD6055B', 'PrivKey': '0x3d3aae632120baa7fe320e67b5141c9db1f5ae7cfeb7e15f7cf3e6956b5d7c18', 'PubKey': '028381193d0e523f7cda40c0e57fb8c3d8369af9d45c488d5fc27f0dca0c0f2596'}]\n"
    }
   ],
   "source": [
    "print(results)"
   ]
  },
  {
   "cell_type": "code",
   "execution_count": 8,
   "metadata": {},
   "outputs": [],
   "source": [
    "import pandas as pd"
   ]
  },
  {
   "cell_type": "code",
   "execution_count": 9,
   "metadata": {},
   "outputs": [],
   "source": [
    "df = pd.DataFrame(results)"
   ]
  },
  {
   "cell_type": "code",
   "execution_count": 13,
   "metadata": {},
   "outputs": [
    {
     "output_type": "execute_result",
     "data": {
      "text/plain": "        Coin                                     Address  \\\n0   BTC-test          mj6y5iYnDYM45bWic86Ht8AgB15BVnw6vE   \n1   BTC-test          mmF2U1y6LPNStAogiS5kdtj9fUqSWnPXeC   \n2   BTC-test          mrLzwQhTuN9hSJ7u6cpm9xbeBD2gpMPb2N   \n3   BTC-test          mzJ7BuHzzadoUb5gx7VFFf75rJwfzarpUC   \n4   BTC-test          moprdUeeryTZhb4Jk7SFMXNHXMGuBChB5a   \n5   BTC-test          mugp2UJpPLo5oNDxUsUFuGTtzgrm7bS27e   \n6   BTC-test          mnRdWZxKFbWUgWVA7KyhjywwaS2EmCpcDB   \n7   BTC-test          n38QqGoqEVWBVnMmojwTih3mHPx2JXiybm   \n8   BTC-test          mmcNqtH2SzQDcbST2LWj5govJhDqGngLLc   \n9   BTC-test          mh4S9DdNUP8csfKK95M2EBh2EeYnRzqeJT   \n10       ETH  0xC3149ED7053eD4BbB0c6C88715F7d06EB05Ffced   \n11       ETH  0x1366c7B423B6433946cAa6bEeEE51346cdC7D3BC   \n12       ETH  0x6073a4642353a63F5d30589588E9a1E04C19Df21   \n13       ETH  0x82B09cfD0517168C81f8d13aa2a947B791ec2b40   \n14       ETH  0x3481A15671df090721674D7f361af0E448F8Ba84   \n15       ETH  0x25c08Ff63debdB0345AeCC7a85eBB41e9C6d0ACE   \n16       ETH  0x580deE442c4b64A0Fd3941f722D1FF6eC1289954   \n17       ETH  0x10fE4Fd6331592c98abe88E0A992fEbf3aaBAd13   \n18       ETH  0x608e28d49dD26f78c48DC1d8de108fF2856c808D   \n19       ETH  0x24ef6E1239096090a7F4B28b7097C4BfCfD6055B   \n\n                                              PrivKey  \\\n0   cTncZsEy8Kquab6745EAdcVqffMLUPaULaKAcF4kTX6SYw...   \n1   cUWEvxEX2srwkCMFRVVkFLR33Lz6fSJttaJLB62MX9T6zw...   \n2   cNgeA1NXtK71rT5HNv2j1vCNMMJgyMU65PoAbUsvmm7Szn...   \n3   cPFv7Y3zoJxfQDeqNpgY19xVNBk2MYkb3FAr9ALrN4PUsL...   \n4   cULwH6KVwjN7d8fxeVn1rqUfqjAz7r4Gr7scTzyzKtWKqs...   \n5   cNqofdrLuQbtu2bmfsb6sBFhMRZGtQsabZQ8CGgDxvJtdr...   \n6   cVE31fgy7XkbGv6eSrwY4ZuFuscvJpB1b1BofKQKSuF61S...   \n7   cQu8nKeTqR6nG45YUWgTqLth2nAUXfHMmJTE41yNMNAVxa...   \n8   cT1NkC2zUbMNPHXTUJTAcgtkM1VbHJdz7nxafk5ffjHUze...   \n9   cTCiJ9r3wAjuo1azYx5YpyTJqm2BKvTpxrbfPc2mPiGjtu...   \n10  0x3bea6bbcfe967607fbab2da421b77e3d858a9036d4dc...   \n11  0x7c684e6790c48a4e7a09fb6a1c6dfadcf54485c92e83...   \n12  0x50cf69f1630dc80e26e4220cdf10711a7a2d7cbab55a...   \n13  0x2f6a9a4b613a270df295ad964611206db7d4e841c9f6...   \n14  0x6a60b80c702b9ef72eacaa93be3da5399d25dc07c912...   \n15  0x90bc5698b01364b65b00833b99bf6441312c193f8c09...   \n16  0x31aa92203bf76d6716410308f56f0c4aba48bac04cb9...   \n17  0x84c2d792ba8d5cf177802db6a856c83f06d721ae55a5...   \n18  0x3c96b6d429907bc5ad182560f49ec894a4bfbe5b9d84...   \n19  0x3d3aae632120baa7fe320e67b5141c9db1f5ae7cfeb7...   \n\n                                               PubKey  \n0   0326d2979bbcbfd572fc80727f237534b68bbf841b13c8...  \n1   0354b537f5fd2213167b587a76030a379f7a0ce0e62fb7...  \n2   022b26a8cfe7f65f8a7c157aca3e0132ee45c5bd954e39...  \n3   030406c369d751d6eb6b9254bf468a9daa1c0f7057cc0d...  \n4   037b42ce84607d1e24d4c45668a7632caa78896c56c414...  \n5   03fa078090a9b50127616f57d446feed0b16474097b62c...  \n6   03251c15b7991f21c24a41d47d371f44c57c9cb5e91e7b...  \n7   0358171b3d5ffb33da32908615f8954087ceea103f62e8...  \n8   02be45336f4fcd15a96d968671864985a6c96378d69f15...  \n9   024d289e6a643837b4b3a94ec51b978172bbcadc732d4c...  \n10  02e8eadfc0c1bdffcec0ee8cf96c411a12aa2d006ef89b...  \n11  0276ad9db9f7dfc3e7f416827acfad7af55206bad4bd86...  \n12  02c25fb57861d577048eb302aca4afb86b3c8b47aff566...  \n13  02ffee526c4820265a392c7d9192a7fa9d4927c92addd0...  \n14  029f16125a1bb8b3d78647c0ba39ef075249c62634b3d3...  \n15  031d0cc9ea782dc378ded3047fadc9b1091c0e4bbe802e...  \n16  027d1745a34390c942eaa4d080f8a1930d0898e230b2f2...  \n17  02da62627a6cb4b7d123350fc2eeb2ecdf998f8948bef5...  \n18  02886d9075976ed03808dee00e92f7fe5bcb29862c069a...  \n19  028381193d0e523f7cda40c0e57fb8c3d8369af9d45c48...  ",
      "text/html": "<div>\n<style scoped>\n    .dataframe tbody tr th:only-of-type {\n        vertical-align: middle;\n    }\n\n    .dataframe tbody tr th {\n        vertical-align: top;\n    }\n\n    .dataframe thead th {\n        text-align: right;\n    }\n</style>\n<table border=\"1\" class=\"dataframe\">\n  <thead>\n    <tr style=\"text-align: right;\">\n      <th></th>\n      <th>Coin</th>\n      <th>Address</th>\n      <th>PrivKey</th>\n      <th>PubKey</th>\n    </tr>\n  </thead>\n  <tbody>\n    <tr>\n      <th>0</th>\n      <td>BTC-test</td>\n      <td>mj6y5iYnDYM45bWic86Ht8AgB15BVnw6vE</td>\n      <td>cTncZsEy8Kquab6745EAdcVqffMLUPaULaKAcF4kTX6SYw...</td>\n      <td>0326d2979bbcbfd572fc80727f237534b68bbf841b13c8...</td>\n    </tr>\n    <tr>\n      <th>1</th>\n      <td>BTC-test</td>\n      <td>mmF2U1y6LPNStAogiS5kdtj9fUqSWnPXeC</td>\n      <td>cUWEvxEX2srwkCMFRVVkFLR33Lz6fSJttaJLB62MX9T6zw...</td>\n      <td>0354b537f5fd2213167b587a76030a379f7a0ce0e62fb7...</td>\n    </tr>\n    <tr>\n      <th>2</th>\n      <td>BTC-test</td>\n      <td>mrLzwQhTuN9hSJ7u6cpm9xbeBD2gpMPb2N</td>\n      <td>cNgeA1NXtK71rT5HNv2j1vCNMMJgyMU65PoAbUsvmm7Szn...</td>\n      <td>022b26a8cfe7f65f8a7c157aca3e0132ee45c5bd954e39...</td>\n    </tr>\n    <tr>\n      <th>3</th>\n      <td>BTC-test</td>\n      <td>mzJ7BuHzzadoUb5gx7VFFf75rJwfzarpUC</td>\n      <td>cPFv7Y3zoJxfQDeqNpgY19xVNBk2MYkb3FAr9ALrN4PUsL...</td>\n      <td>030406c369d751d6eb6b9254bf468a9daa1c0f7057cc0d...</td>\n    </tr>\n    <tr>\n      <th>4</th>\n      <td>BTC-test</td>\n      <td>moprdUeeryTZhb4Jk7SFMXNHXMGuBChB5a</td>\n      <td>cULwH6KVwjN7d8fxeVn1rqUfqjAz7r4Gr7scTzyzKtWKqs...</td>\n      <td>037b42ce84607d1e24d4c45668a7632caa78896c56c414...</td>\n    </tr>\n    <tr>\n      <th>5</th>\n      <td>BTC-test</td>\n      <td>mugp2UJpPLo5oNDxUsUFuGTtzgrm7bS27e</td>\n      <td>cNqofdrLuQbtu2bmfsb6sBFhMRZGtQsabZQ8CGgDxvJtdr...</td>\n      <td>03fa078090a9b50127616f57d446feed0b16474097b62c...</td>\n    </tr>\n    <tr>\n      <th>6</th>\n      <td>BTC-test</td>\n      <td>mnRdWZxKFbWUgWVA7KyhjywwaS2EmCpcDB</td>\n      <td>cVE31fgy7XkbGv6eSrwY4ZuFuscvJpB1b1BofKQKSuF61S...</td>\n      <td>03251c15b7991f21c24a41d47d371f44c57c9cb5e91e7b...</td>\n    </tr>\n    <tr>\n      <th>7</th>\n      <td>BTC-test</td>\n      <td>n38QqGoqEVWBVnMmojwTih3mHPx2JXiybm</td>\n      <td>cQu8nKeTqR6nG45YUWgTqLth2nAUXfHMmJTE41yNMNAVxa...</td>\n      <td>0358171b3d5ffb33da32908615f8954087ceea103f62e8...</td>\n    </tr>\n    <tr>\n      <th>8</th>\n      <td>BTC-test</td>\n      <td>mmcNqtH2SzQDcbST2LWj5govJhDqGngLLc</td>\n      <td>cT1NkC2zUbMNPHXTUJTAcgtkM1VbHJdz7nxafk5ffjHUze...</td>\n      <td>02be45336f4fcd15a96d968671864985a6c96378d69f15...</td>\n    </tr>\n    <tr>\n      <th>9</th>\n      <td>BTC-test</td>\n      <td>mh4S9DdNUP8csfKK95M2EBh2EeYnRzqeJT</td>\n      <td>cTCiJ9r3wAjuo1azYx5YpyTJqm2BKvTpxrbfPc2mPiGjtu...</td>\n      <td>024d289e6a643837b4b3a94ec51b978172bbcadc732d4c...</td>\n    </tr>\n    <tr>\n      <th>10</th>\n      <td>ETH</td>\n      <td>0xC3149ED7053eD4BbB0c6C88715F7d06EB05Ffced</td>\n      <td>0x3bea6bbcfe967607fbab2da421b77e3d858a9036d4dc...</td>\n      <td>02e8eadfc0c1bdffcec0ee8cf96c411a12aa2d006ef89b...</td>\n    </tr>\n    <tr>\n      <th>11</th>\n      <td>ETH</td>\n      <td>0x1366c7B423B6433946cAa6bEeEE51346cdC7D3BC</td>\n      <td>0x7c684e6790c48a4e7a09fb6a1c6dfadcf54485c92e83...</td>\n      <td>0276ad9db9f7dfc3e7f416827acfad7af55206bad4bd86...</td>\n    </tr>\n    <tr>\n      <th>12</th>\n      <td>ETH</td>\n      <td>0x6073a4642353a63F5d30589588E9a1E04C19Df21</td>\n      <td>0x50cf69f1630dc80e26e4220cdf10711a7a2d7cbab55a...</td>\n      <td>02c25fb57861d577048eb302aca4afb86b3c8b47aff566...</td>\n    </tr>\n    <tr>\n      <th>13</th>\n      <td>ETH</td>\n      <td>0x82B09cfD0517168C81f8d13aa2a947B791ec2b40</td>\n      <td>0x2f6a9a4b613a270df295ad964611206db7d4e841c9f6...</td>\n      <td>02ffee526c4820265a392c7d9192a7fa9d4927c92addd0...</td>\n    </tr>\n    <tr>\n      <th>14</th>\n      <td>ETH</td>\n      <td>0x3481A15671df090721674D7f361af0E448F8Ba84</td>\n      <td>0x6a60b80c702b9ef72eacaa93be3da5399d25dc07c912...</td>\n      <td>029f16125a1bb8b3d78647c0ba39ef075249c62634b3d3...</td>\n    </tr>\n    <tr>\n      <th>15</th>\n      <td>ETH</td>\n      <td>0x25c08Ff63debdB0345AeCC7a85eBB41e9C6d0ACE</td>\n      <td>0x90bc5698b01364b65b00833b99bf6441312c193f8c09...</td>\n      <td>031d0cc9ea782dc378ded3047fadc9b1091c0e4bbe802e...</td>\n    </tr>\n    <tr>\n      <th>16</th>\n      <td>ETH</td>\n      <td>0x580deE442c4b64A0Fd3941f722D1FF6eC1289954</td>\n      <td>0x31aa92203bf76d6716410308f56f0c4aba48bac04cb9...</td>\n      <td>027d1745a34390c942eaa4d080f8a1930d0898e230b2f2...</td>\n    </tr>\n    <tr>\n      <th>17</th>\n      <td>ETH</td>\n      <td>0x10fE4Fd6331592c98abe88E0A992fEbf3aaBAd13</td>\n      <td>0x84c2d792ba8d5cf177802db6a856c83f06d721ae55a5...</td>\n      <td>02da62627a6cb4b7d123350fc2eeb2ecdf998f8948bef5...</td>\n    </tr>\n    <tr>\n      <th>18</th>\n      <td>ETH</td>\n      <td>0x608e28d49dD26f78c48DC1d8de108fF2856c808D</td>\n      <td>0x3c96b6d429907bc5ad182560f49ec894a4bfbe5b9d84...</td>\n      <td>02886d9075976ed03808dee00e92f7fe5bcb29862c069a...</td>\n    </tr>\n    <tr>\n      <th>19</th>\n      <td>ETH</td>\n      <td>0x24ef6E1239096090a7F4B28b7097C4BfCfD6055B</td>\n      <td>0x3d3aae632120baa7fe320e67b5141c9db1f5ae7cfeb7...</td>\n      <td>028381193d0e523f7cda40c0e57fb8c3d8369af9d45c48...</td>\n    </tr>\n  </tbody>\n</table>\n</div>"
     },
     "metadata": {},
     "execution_count": 13
    }
   ],
   "source": [
    "df"
   ]
  },
  {
   "cell_type": "code",
   "execution_count": 11,
   "metadata": {},
   "outputs": [],
   "source": [
    "from bit import wif_to_key\n",
    "from web3 import Web3\n",
    "from web3.middleware import geth_poa_middleware\n",
    "from eth_account import Account\n",
    "w3 = Web3(Web3.HTTPProvider(\"http://127.0.0.1:8545\"))"
   ]
  },
  {
   "cell_type": "code",
   "execution_count": 17,
   "metadata": {
    "tags": []
   },
   "outputs": [
    {
     "output_type": "stream",
     "name": "stdout",
     "text": "BTC-test mj6y5iYnDYM45bWic86Ht8AgB15BVnw6vE\nBTC-test mmF2U1y6LPNStAogiS5kdtj9fUqSWnPXeC\nBTC-test mrLzwQhTuN9hSJ7u6cpm9xbeBD2gpMPb2N\nBTC-test mzJ7BuHzzadoUb5gx7VFFf75rJwfzarpUC\nBTC-test moprdUeeryTZhb4Jk7SFMXNHXMGuBChB5a\nBTC-test mugp2UJpPLo5oNDxUsUFuGTtzgrm7bS27e\nBTC-test mnRdWZxKFbWUgWVA7KyhjywwaS2EmCpcDB\nBTC-test n38QqGoqEVWBVnMmojwTih3mHPx2JXiybm\nBTC-test mmcNqtH2SzQDcbST2LWj5govJhDqGngLLc\nBTC-test mh4S9DdNUP8csfKK95M2EBh2EeYnRzqeJT\nETH 0xC3149ED7053eD4BbB0c6C88715F7d06EB05Ffced\nETH 0x1366c7B423B6433946cAa6bEeEE51346cdC7D3BC\nETH 0x6073a4642353a63F5d30589588E9a1E04C19Df21\nETH 0x82B09cfD0517168C81f8d13aa2a947B791ec2b40\nETH 0x3481A15671df090721674D7f361af0E448F8Ba84\nETH 0x25c08Ff63debdB0345AeCC7a85eBB41e9C6d0ACE\nETH 0x580deE442c4b64A0Fd3941f722D1FF6eC1289954\nETH 0x10fE4Fd6331592c98abe88E0A992fEbf3aaBAd13\nETH 0x608e28d49dD26f78c48DC1d8de108fF2856c808D\nETH 0x24ef6E1239096090a7F4B28b7097C4BfCfD6055B\n"
    }
   ],
   "source": [
    "def getbal(row):\n",
    "    privKey = row[\"PrivKey\"]\n",
    "    address = row[\"Address\"]\n",
    "    coin = row[\"Coin\"]\n",
    "    print(coin, address)\n",
    "    if coin == 'BTC-test':\n",
    "        key = wif_to_key(privKey)\n",
    "        bal = key.get_balance('btc')\n",
    "    else:\n",
    "        bal = w3.eth.getBalance(address)\n",
    "    return bal\n",
    "    \n",
    "df[\"bal\"] = df.apply(getbal, axis=1)"
   ]
  },
  {
   "cell_type": "code",
   "execution_count": 20,
   "metadata": {},
   "outputs": [
    {
     "output_type": "execute_result",
     "data": {
      "text/plain": "        Coin                                     Address         bal\n0   BTC-test          mj6y5iYnDYM45bWic86Ht8AgB15BVnw6vE  0.39829295\n1   BTC-test          mmF2U1y6LPNStAogiS5kdtj9fUqSWnPXeC   0.0005514\n2   BTC-test          mrLzwQhTuN9hSJ7u6cpm9xbeBD2gpMPb2N           0\n3   BTC-test          mzJ7BuHzzadoUb5gx7VFFf75rJwfzarpUC           0\n4   BTC-test          moprdUeeryTZhb4Jk7SFMXNHXMGuBChB5a           0\n5   BTC-test          mugp2UJpPLo5oNDxUsUFuGTtzgrm7bS27e           0\n6   BTC-test          mnRdWZxKFbWUgWVA7KyhjywwaS2EmCpcDB           0\n7   BTC-test          n38QqGoqEVWBVnMmojwTih3mHPx2JXiybm           0\n8   BTC-test          mmcNqtH2SzQDcbST2LWj5govJhDqGngLLc           0\n9   BTC-test          mh4S9DdNUP8csfKK95M2EBh2EeYnRzqeJT           0\n10       ETH  0xC3149ED7053eD4BbB0c6C88715F7d06EB05Ffced           0\n11       ETH  0x1366c7B423B6433946cAa6bEeEE51346cdC7D3BC           0\n12       ETH  0x6073a4642353a63F5d30589588E9a1E04C19Df21           0\n13       ETH  0x82B09cfD0517168C81f8d13aa2a947B791ec2b40           0\n14       ETH  0x3481A15671df090721674D7f361af0E448F8Ba84           0\n15       ETH  0x25c08Ff63debdB0345AeCC7a85eBB41e9C6d0ACE           0\n16       ETH  0x580deE442c4b64A0Fd3941f722D1FF6eC1289954           0\n17       ETH  0x10fE4Fd6331592c98abe88E0A992fEbf3aaBAd13           0\n18       ETH  0x608e28d49dD26f78c48DC1d8de108fF2856c808D           0\n19       ETH  0x24ef6E1239096090a7F4B28b7097C4BfCfD6055B           0",
      "text/html": "<div>\n<style scoped>\n    .dataframe tbody tr th:only-of-type {\n        vertical-align: middle;\n    }\n\n    .dataframe tbody tr th {\n        vertical-align: top;\n    }\n\n    .dataframe thead th {\n        text-align: right;\n    }\n</style>\n<table border=\"1\" class=\"dataframe\">\n  <thead>\n    <tr style=\"text-align: right;\">\n      <th></th>\n      <th>Coin</th>\n      <th>Address</th>\n      <th>bal</th>\n    </tr>\n  </thead>\n  <tbody>\n    <tr>\n      <th>0</th>\n      <td>BTC-test</td>\n      <td>mj6y5iYnDYM45bWic86Ht8AgB15BVnw6vE</td>\n      <td>0.39829295</td>\n    </tr>\n    <tr>\n      <th>1</th>\n      <td>BTC-test</td>\n      <td>mmF2U1y6LPNStAogiS5kdtj9fUqSWnPXeC</td>\n      <td>0.0005514</td>\n    </tr>\n    <tr>\n      <th>2</th>\n      <td>BTC-test</td>\n      <td>mrLzwQhTuN9hSJ7u6cpm9xbeBD2gpMPb2N</td>\n      <td>0</td>\n    </tr>\n    <tr>\n      <th>3</th>\n      <td>BTC-test</td>\n      <td>mzJ7BuHzzadoUb5gx7VFFf75rJwfzarpUC</td>\n      <td>0</td>\n    </tr>\n    <tr>\n      <th>4</th>\n      <td>BTC-test</td>\n      <td>moprdUeeryTZhb4Jk7SFMXNHXMGuBChB5a</td>\n      <td>0</td>\n    </tr>\n    <tr>\n      <th>5</th>\n      <td>BTC-test</td>\n      <td>mugp2UJpPLo5oNDxUsUFuGTtzgrm7bS27e</td>\n      <td>0</td>\n    </tr>\n    <tr>\n      <th>6</th>\n      <td>BTC-test</td>\n      <td>mnRdWZxKFbWUgWVA7KyhjywwaS2EmCpcDB</td>\n      <td>0</td>\n    </tr>\n    <tr>\n      <th>7</th>\n      <td>BTC-test</td>\n      <td>n38QqGoqEVWBVnMmojwTih3mHPx2JXiybm</td>\n      <td>0</td>\n    </tr>\n    <tr>\n      <th>8</th>\n      <td>BTC-test</td>\n      <td>mmcNqtH2SzQDcbST2LWj5govJhDqGngLLc</td>\n      <td>0</td>\n    </tr>\n    <tr>\n      <th>9</th>\n      <td>BTC-test</td>\n      <td>mh4S9DdNUP8csfKK95M2EBh2EeYnRzqeJT</td>\n      <td>0</td>\n    </tr>\n    <tr>\n      <th>10</th>\n      <td>ETH</td>\n      <td>0xC3149ED7053eD4BbB0c6C88715F7d06EB05Ffced</td>\n      <td>0</td>\n    </tr>\n    <tr>\n      <th>11</th>\n      <td>ETH</td>\n      <td>0x1366c7B423B6433946cAa6bEeEE51346cdC7D3BC</td>\n      <td>0</td>\n    </tr>\n    <tr>\n      <th>12</th>\n      <td>ETH</td>\n      <td>0x6073a4642353a63F5d30589588E9a1E04C19Df21</td>\n      <td>0</td>\n    </tr>\n    <tr>\n      <th>13</th>\n      <td>ETH</td>\n      <td>0x82B09cfD0517168C81f8d13aa2a947B791ec2b40</td>\n      <td>0</td>\n    </tr>\n    <tr>\n      <th>14</th>\n      <td>ETH</td>\n      <td>0x3481A15671df090721674D7f361af0E448F8Ba84</td>\n      <td>0</td>\n    </tr>\n    <tr>\n      <th>15</th>\n      <td>ETH</td>\n      <td>0x25c08Ff63debdB0345AeCC7a85eBB41e9C6d0ACE</td>\n      <td>0</td>\n    </tr>\n    <tr>\n      <th>16</th>\n      <td>ETH</td>\n      <td>0x580deE442c4b64A0Fd3941f722D1FF6eC1289954</td>\n      <td>0</td>\n    </tr>\n    <tr>\n      <th>17</th>\n      <td>ETH</td>\n      <td>0x10fE4Fd6331592c98abe88E0A992fEbf3aaBAd13</td>\n      <td>0</td>\n    </tr>\n    <tr>\n      <th>18</th>\n      <td>ETH</td>\n      <td>0x608e28d49dD26f78c48DC1d8de108fF2856c808D</td>\n      <td>0</td>\n    </tr>\n    <tr>\n      <th>19</th>\n      <td>ETH</td>\n      <td>0x24ef6E1239096090a7F4B28b7097C4BfCfD6055B</td>\n      <td>0</td>\n    </tr>\n  </tbody>\n</table>\n</div>"
     },
     "metadata": {},
     "execution_count": 20
    }
   ],
   "source": [
    "df2 = df[['Coin', 'Address', 'bal']]\n",
    "df2"
   ]
  },
  {
   "cell_type": "code",
   "execution_count": null,
   "metadata": {},
   "outputs": [],
   "source": []
  }
 ]
}